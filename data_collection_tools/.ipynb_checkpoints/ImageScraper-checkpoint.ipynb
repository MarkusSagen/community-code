{
 "cells": [
  {
   "cell_type": "markdown",
   "metadata": {
    "id": "ONIqIEu7VyT4"
   },
   "source": [
    "# DuckDuckGo Image Scraper\n",
    "Scrape images from DuckDuckGo to build your own dataset.\n",
    "\n",
    "Notebook by [Peltarion](https://www.peltarion.com/)\n"
   ]
  },
  {
   "cell_type": "markdown",
   "metadata": {},
   "source": [
    "## **Important Info**\n",
    "If something went wrong or you want to download a new data, reset the notebook and remove the files by doing the following steps:\n",
    "1. In the top menu, click on `Runtime`\n",
    "2. In the dropdown menu, click on `Factory reset runtime`"
   ]
  },
  {
   "cell_type": "markdown",
   "metadata": {
    "id": "tTCCj9TS0WVY"
   },
   "source": [
    "## Install\n",
    "\n"
   ]
  },
  {
   "cell_type": "code",
   "execution_count": 1,
   "metadata": {
    "id": "EYwHbopFG63A"
   },
   "outputs": [],
   "source": [
    "!pip install -q jmd_imagescraper"
   ]
  },
  {
   "cell_type": "markdown",
   "metadata": {
    "id": "IMbb_349LcgA"
   },
   "source": [
    "## Download images"
   ]
  },
  {
   "cell_type": "code",
   "execution_count": 2,
   "metadata": {
    "id": "ZpLinvRTLjCk"
   },
   "outputs": [],
   "source": [
    "# Run this cell once\n",
    "from pathlib import Path\n",
    "root = Path().cwd()/\"images\"\n",
    "from jmd_imagescraper.core import *"
   ]
  },
  {
   "cell_type": "markdown",
   "metadata": {
    "id": "pisakEROzAOz"
   },
   "source": [
    "Change the values below and run the cell once for search.\n",
    "amount_of_images is maximum around 400 right now."
   ]
  },
  {
   "cell_type": "code",
   "execution_count": null,
   "metadata": {
    "id": "OwV8lojiy_CL"
   },
   "outputs": [],
   "source": [
    "folder_name = \"black\"\n",
    "search_word = \"black bear\"\n",
    "amount_of_images = 60\n",
    "\n",
    "\n",
    "duckduckgo_search(root, folder_name, search_word, max_results=amount_of_images)"
   ]
  },
  {
   "cell_type": "markdown",
   "metadata": {
    "id": "W2IKoyz-NvFq"
   },
   "source": [
    "## Displaying the image cleaner\n",
    "\n",
    "Use this to get rid of unsuitable images without leaving your notebook"
   ]
  },
  {
   "cell_type": "code",
   "execution_count": null,
   "metadata": {
    "cellView": "code",
    "id": "ZWwjDsJDOGrO"
   },
   "outputs": [],
   "source": [
    "from jmd_imagescraper.imagecleaner import *\n",
    "\n",
    "display_image_cleaner(root)"
   ]
  },
  {
   "cell_type": "markdown",
   "metadata": {
    "id": "H6KTdjEY0Fix"
   },
   "source": [
    "## Create a zip to download\n",
    "\n"
   ]
  },
  {
   "cell_type": "code",
   "execution_count": null,
   "metadata": {
    "id": "oRgsyPcC8zs3"
   },
   "outputs": [],
   "source": [
    "!zip -r ./images.zip ./images"
   ]
  },
  {
   "cell_type": "code",
   "execution_count": 8,
   "metadata": {
    "colab": {
     "base_uri": "https://localhost:8080/",
     "height": 17
    },
    "id": "rmnndlPN1yTY",
    "outputId": "59700592-d8a9-444a-d933-838e2239b957"
   },
   "outputs": [
    {
     "data": {
      "application/javascript": [
       "\n",
       "    async function download(id, filename, size) {\n",
       "      if (!google.colab.kernel.accessAllowed) {\n",
       "        return;\n",
       "      }\n",
       "      const div = document.createElement('div');\n",
       "      const label = document.createElement('label');\n",
       "      label.textContent = `Downloading \"${filename}\": `;\n",
       "      div.appendChild(label);\n",
       "      const progress = document.createElement('progress');\n",
       "      progress.max = size;\n",
       "      div.appendChild(progress);\n",
       "      document.body.appendChild(div);\n",
       "\n",
       "      const buffers = [];\n",
       "      let downloaded = 0;\n",
       "\n",
       "      const channel = await google.colab.kernel.comms.open(id);\n",
       "      // Send a message to notify the kernel that we're ready.\n",
       "      channel.send({})\n",
       "\n",
       "      for await (const message of channel.messages) {\n",
       "        // Send a message to notify the kernel that we're ready.\n",
       "        channel.send({})\n",
       "        if (message.buffers) {\n",
       "          for (const buffer of message.buffers) {\n",
       "            buffers.push(buffer);\n",
       "            downloaded += buffer.byteLength;\n",
       "            progress.value = downloaded;\n",
       "          }\n",
       "        }\n",
       "      }\n",
       "      const blob = new Blob(buffers, {type: 'application/binary'});\n",
       "      const a = document.createElement('a');\n",
       "      a.href = window.URL.createObjectURL(blob);\n",
       "      a.download = filename;\n",
       "      div.appendChild(a);\n",
       "      a.click();\n",
       "      div.remove();\n",
       "    }\n",
       "  "
      ],
      "text/plain": [
       "<IPython.core.display.Javascript object>"
      ]
     },
     "metadata": {},
     "output_type": "display_data"
    },
    {
     "data": {
      "application/javascript": [
       "download(\"download_8d6e9996-1f0c-45d7-b67e-c67811b0a656\", \"images.zip\", 8187011)"
      ],
      "text/plain": [
       "<IPython.core.display.Javascript object>"
      ]
     },
     "metadata": {},
     "output_type": "display_data"
    }
   ],
   "source": [
    "# download to your local system\n",
    "from google.colab import files\n",
    "files.download(\"./images.zip\")"
   ]
  }
 ],
 "metadata": {
  "colab": {
   "collapsed_sections": [],
   "name": "Demo - ImageScraper",
   "provenance": []
  },
  "kernelspec": {
   "display_name": "Python 3",
   "language": "python",
   "name": "python3"
  },
  "language_info": {
   "codemirror_mode": {
    "name": "ipython",
    "version": 3
   },
   "file_extension": ".py",
   "mimetype": "text/x-python",
   "name": "python",
   "nbconvert_exporter": "python",
   "pygments_lexer": "ipython3",
   "version": "3.8.8"
  }
 },
 "nbformat": 4,
 "nbformat_minor": 4
}
